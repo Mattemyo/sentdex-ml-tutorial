{
 "cells": [
  {
   "cell_type": "code",
   "execution_count": null,
   "metadata": {},
   "outputs": [],
   "source": [
    "import tflearn\n",
    "from tflearn.layers.conv import conv_2d, max_pool_2d\n",
    "from tflearn.layers.core import input_data, dropout, fully_connected\n",
    "from tflearn.layers.estimator import regression\n",
    "import tflearn.dataset.mnist as mnist\n",
    "\n",
    "X, Y, test_x, test_y = mnist.load_data(one_hot=True)\n",
    "\n",
    "X = X.reshape([-1, 28, 28, 1])\n",
    "test_x = test_x.reshape([-1, 28, 28, 1])\n",
    "\n",
    "convnet = input_data(shape=[None, 28, 28 1], name='input')\n",
    "\n",
    "convnet = conv2d(convnet, 32, 2, activation='relu')\n",
    "convnet = max_pool_2d(convnet,2)\n",
    "\n",
    "\n",
    "convnet = conv2d(convnet, 64, 2, activation='relu')\n",
    "convnet = max_pool_2d(convnet,2)\n",
    "\n",
    "\n",
    "convnet = fully_connected(convnet, 1024, activation='relu')\n",
    "convnet = dropout(convnet, 0.8)\n",
    "\n",
    "convnet = fully_onnected(convnet, 10, activation='softmax')\n",
    "convnet = regression(\n",
    "    convnet, optimizer='adam', learning_rate=0.01, loss='categorical_crossentropy', name='targets'\n",
    "                    )\n",
    "\n",
    "model = tflearn.DNN(convnet)\n",
    "\n",
    "# model.fit(\n",
    "#     {'input': X},\n",
    "#     {'targets': Y},\n",
    "#     n_epochs=10,\n",
    "#     validation_set=({'input': test_x}, {'targets': test_y}),\n",
    "#     snapshot_step=500,\n",
    "#     show_metric=True,\n",
    "#     run_id='mnist'\n",
    "# )\n",
    "\n",
    "\n",
    "# model.save('tflearncnn.model')\n",
    "\n",
    "\n",
    "model.load('tflearncnn.model')\n",
    "\n",
    "\n",
    "print(model.predict([test_x[1]]))\n",
    "\n",
    "\n",
    "\n",
    "\n",
    "\n",
    "\n"
   ]
  }
 ],
 "metadata": {
  "kernelspec": {
   "display_name": "Python 3",
   "language": "python",
   "name": "python3"
  },
  "language_info": {
   "codemirror_mode": {
    "name": "ipython",
    "version": 3
   },
   "file_extension": ".py",
   "mimetype": "text/x-python",
   "name": "python",
   "nbconvert_exporter": "python",
   "pygments_lexer": "ipython3",
   "version": "3.6.4"
  }
 },
 "nbformat": 4,
 "nbformat_minor": 2
}
