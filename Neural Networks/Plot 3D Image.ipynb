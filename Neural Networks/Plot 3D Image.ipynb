{
 "cells": [
  {
   "cell_type": "code",
   "execution_count": 2,
   "metadata": {},
   "outputs": [
    {
     "ename": "ImportError",
     "evalue": "\nPydicom via 'import dicom' has been removed in pydicom version 1.0.\nPlease install the `dicom` package to restore function of code relying\non pydicom 0.9.9 or earlier. E.g. `pip install dicom`.\nAlternatively, most code can easily be converted to pydicom > 1.0 by\nchanging import lines from 'import dicom' to 'import pydicom'.\nSee the Transition Guide at\nhttps://pydicom.github.io/pydicom/stable/transition_to_pydicom1.html.\n",
     "output_type": "error",
     "traceback": [
      "\u001b[1;31m------------------------------------------------------\u001b[0m",
      "\u001b[1;31mImportError\u001b[0m          Traceback (most recent call last)",
      "\u001b[1;32m<ipython-input-2-ae333b8420fa>\u001b[0m in \u001b[0;36m<module>\u001b[1;34m()\u001b[0m\n\u001b[1;32m----> 1\u001b[1;33m \u001b[1;32mimport\u001b[0m \u001b[0mdicom\u001b[0m \u001b[1;31m# read dicom files\u001b[0m\u001b[1;33m\u001b[0m\u001b[0m\n\u001b[0m\u001b[0;32m      2\u001b[0m \u001b[1;32mimport\u001b[0m \u001b[0mos\u001b[0m \u001b[1;31m# directory operations\u001b[0m\u001b[1;33m\u001b[0m\u001b[0m\n\u001b[0;32m      3\u001b[0m \u001b[1;32mimport\u001b[0m \u001b[0mpandas\u001b[0m \u001b[1;32mas\u001b[0m \u001b[0mpd\u001b[0m\u001b[1;33m\u001b[0m\u001b[0m\n\u001b[0;32m      4\u001b[0m \u001b[1;33m\u001b[0m\u001b[0m\n\u001b[0;32m      5\u001b[0m \u001b[1;31m# Data directory\u001b[0m\u001b[1;33m\u001b[0m\u001b[1;33m\u001b[0m\u001b[0m\n",
      "\u001b[1;32m~\\RealAnaconda3\\lib\\site-packages\\dicom.py\u001b[0m in \u001b[0;36m<module>\u001b[1;34m()\u001b[0m\n\u001b[0;32m      9\u001b[0m \"\"\"\n\u001b[0;32m     10\u001b[0m \u001b[1;33m\u001b[0m\u001b[0m\n\u001b[1;32m---> 11\u001b[1;33m \u001b[1;32mraise\u001b[0m \u001b[0mImportError\u001b[0m\u001b[1;33m(\u001b[0m\u001b[0mmsg\u001b[0m\u001b[1;33m)\u001b[0m\u001b[1;33m\u001b[0m\u001b[0m\n\u001b[0m",
      "\u001b[1;31mImportError\u001b[0m: \nPydicom via 'import dicom' has been removed in pydicom version 1.0.\nPlease install the `dicom` package to restore function of code relying\non pydicom 0.9.9 or earlier. E.g. `pip install dicom`.\nAlternatively, most code can easily be converted to pydicom > 1.0 by\nchanging import lines from 'import dicom' to 'import pydicom'.\nSee the Transition Guide at\nhttps://pydicom.github.io/pydicom/stable/transition_to_pydicom1.html.\n"
     ]
    }
   ],
   "source": [
    "import dicom # read dicom files\n",
    "import os # directory operations\n",
    "import pandas as pd\n",
    "\n",
    "# Data directory\n",
    "data_dit = '...'\n",
    "patients = os.listdir(data_dir)\n",
    "labels_df = pd.read_csv('....csv', index_col=0)\n",
    "\n",
    "labels_df.head()"
   ]
  },
  {
   "cell_type": "code",
   "execution_count": null,
   "metadata": {},
   "outputs": [],
   "source": [
    "for patient in paients[:10]:\n",
    "    label = labels_df.getvalue(patient, 'cancer')\n",
    "    path = data_dir + patient\n",
    "    slices = [dicom.read+file(path + '/' + s) for s in os.listdir(path)]\n",
    "    slices.sort(key = lambda x: int(x.ImagePositionPatient[2]))\n",
    "    "
   ]
  },
  {
   "cell_type": "code",
   "execution_count": null,
   "metadata": {},
   "outputs": [],
   "source": [
    "print(len(slices), slices[0].pixel_array.shape)\n",
    "print(slices[0])\n"
   ]
  },
  {
   "cell_type": "code",
   "execution_count": null,
   "metadata": {},
   "outputs": [],
   "source": [
    "import matplotlib.pyplot as plt\n",
    "import cv2\n",
    "import numpy as np"
   ]
  },
  {
   "cell_type": "code",
   "execution_count": null,
   "metadata": {},
   "outputs": [],
   "source": [
    "IMG_PX_SIZE = 150\n",
    "\n",
    "def chunks(l, n):\n",
    "    #yield successive n-sized chunks from l\n",
    "    for i in range(0, len(1), n):\n",
    "        yield l[i:i + n]\n",
    "\n",
    "\n",
    "mean = lambda l: sum(l)/len(l)\n",
    "\n",
    "        \n",
    "for patient in paients[:10]:\n",
    "    label = labels_df.getvalue(patient, 'cancer')\n",
    "    path = data_dir + patient\n",
    "    slices = [dicom.read+file(path + '/' + s) for s in os.listdir(path)]\n",
    "    slices.sort(key = lambda x: int(x.ImagePositionPatient[2]))\n",
    "    \n",
    "    new_slices = []\n",
    "    slices = [\n",
    "        cv2.resize(\n",
    "            np.array(each_slice.pixel_array),\n",
    "            (IMG_PX_SIZE,IMG_PX_SIZE)\n",
    "        ) for each_slice in slices\n",
    "    ]\n",
    "    \n",
    "    chunk_sizes = math.ceil(len(slices) / HM_SLICES)\n",
    "    \n",
    "    for slice_chunk in chunks(slices, chunk_sizes):\n",
    "        slice_chunk = list(map(mean, zip(*slice_chunk)))\n",
    "        new_slices.append(slice_chunk)\n",
    "        \n",
    "    print(len(new_slices))\n",
    "    \n",
    "    if len(new_slices) == HM_SLICES -1:\n",
    "        new_slices.append(new_slices[-1])\n",
    "        \n",
    "    if len(new_slices) == HM_SLICES -2:\n",
    "        new_slices.append(new_slices[-1])\n",
    "        new_slices.append(new_slices[-1])\n",
    "\n",
    "    if len(new_slices) == HM_SLICES + 2:\n",
    "        new_val = list(\n",
    "            map(\n",
    "                mean,\n",
    "                zip(\n",
    "                    *[new_slices[HM_SLICES-1],\n",
    "                      new_slices[HM_SLICES]]\n",
    "                )\n",
    "            )\n",
    "        )\n",
    "        \n",
    "        del new_slices[HM_SLICES]\n",
    "        new_slices[HM_SLICES-1] = new_val\n",
    "        \n",
    "      \n",
    "    if len(new_slices) == HM_SLICES + 1:\n",
    "        new_val = list(\n",
    "            map(\n",
    "                mean,\n",
    "                zip(\n",
    "                    *[new_slices[HM_SLICES-1],\n",
    "                      new_slices[HM_SLICES]]\n",
    "                )\n",
    "            )\n",
    "        )\n",
    "        \n",
    "        del new_slices[HM_SLICES]\n",
    "        new_slices[HM_SLICES-1] = new_val\n",
    "        \n",
    "        \n",
    "    print(len(new_slices))\n",
    "    \n",
    "    \n",
    "    fig = plt.figure()\n",
    "    for num, each_slice in enumerate(new_slices):\n",
    "        y = fig.add_subplot(4,5, num+1)\n",
    "        y.imshow(each_slice)\n",
    "        \n",
    "    plt.show()"
   ]
  },
  {
   "cell_type": "code",
   "execution_count": null,
   "metadata": {},
   "outputs": [],
   "source": []
  },
  {
   "cell_type": "code",
   "execution_count": null,
   "metadata": {},
   "outputs": [],
   "source": []
  },
  {
   "cell_type": "code",
   "execution_count": null,
   "metadata": {},
   "outputs": [],
   "source": []
  }
 ],
 "metadata": {
  "kernelspec": {
   "display_name": "Python 3",
   "language": "python",
   "name": "python3"
  },
  "language_info": {
   "codemirror_mode": {
    "name": "ipython",
    "version": 3
   },
   "file_extension": ".py",
   "mimetype": "text/x-python",
   "name": "python",
   "nbconvert_exporter": "python",
   "pygments_lexer": "ipython3",
   "version": "3.6.4"
  }
 },
 "nbformat": 4,
 "nbformat_minor": 2
}
